{
  "nbformat": 4,
  "nbformat_minor": 0,
  "metadata": {
    "colab": {
      "provenance": []
    },
    "kernelspec": {
      "name": "python3",
      "display_name": "Python 3"
    },
    "language_info": {
      "name": "python"
    }
  },
  "cells": [
    {
      "cell_type": "code",
      "source": [],
      "metadata": {
        "colab": {
          "base_uri": "https://localhost:8080/"
        },
        "id": "0_HCk8yTqFpS",
        "outputId": "7d5b7799-17c0-4321-89e2-aeaf9d1893c8"
      },
      "execution_count": null,
      "outputs": [
        {
          "output_type": "stream",
          "name": "stdout",
          "text": [
            "Collecting pennylane\n",
            "  Downloading PennyLane-0.39.0-py3-none-any.whl.metadata (9.2 kB)\n",
            "Requirement already satisfied: numpy<2.1 in /usr/local/lib/python3.10/dist-packages (from pennylane) (1.26.4)\n",
            "Requirement already satisfied: scipy in /usr/local/lib/python3.10/dist-packages (from pennylane) (1.13.1)\n",
            "Requirement already satisfied: networkx in /usr/local/lib/python3.10/dist-packages (from pennylane) (3.4.2)\n",
            "Collecting rustworkx>=0.14.0 (from pennylane)\n",
            "  Downloading rustworkx-0.15.1-cp38-abi3-manylinux_2_17_x86_64.manylinux2014_x86_64.whl.metadata (9.9 kB)\n",
            "Requirement already satisfied: autograd in /usr/local/lib/python3.10/dist-packages (from pennylane) (1.7.0)\n",
            "Requirement already satisfied: toml in /usr/local/lib/python3.10/dist-packages (from pennylane) (0.10.2)\n",
            "Collecting appdirs (from pennylane)\n",
            "  Downloading appdirs-1.4.4-py2.py3-none-any.whl.metadata (9.0 kB)\n",
            "Collecting autoray>=0.6.11 (from pennylane)\n",
            "  Downloading autoray-0.7.0-py3-none-any.whl.metadata (5.8 kB)\n",
            "Requirement already satisfied: cachetools in /usr/local/lib/python3.10/dist-packages (from pennylane) (5.5.0)\n",
            "Collecting pennylane-lightning>=0.39 (from pennylane)\n",
            "  Downloading PennyLane_Lightning-0.39.0-cp310-cp310-manylinux_2_28_x86_64.whl.metadata (26 kB)\n",
            "Requirement already satisfied: requests in /usr/local/lib/python3.10/dist-packages (from pennylane) (2.32.3)\n",
            "Requirement already satisfied: typing-extensions in /usr/local/lib/python3.10/dist-packages (from pennylane) (4.12.2)\n",
            "Requirement already satisfied: packaging in /usr/local/lib/python3.10/dist-packages (from pennylane) (24.2)\n",
            "Requirement already satisfied: charset-normalizer<4,>=2 in /usr/local/lib/python3.10/dist-packages (from requests->pennylane) (3.4.0)\n",
            "Requirement already satisfied: idna<4,>=2.5 in /usr/local/lib/python3.10/dist-packages (from requests->pennylane) (3.10)\n",
            "Requirement already satisfied: urllib3<3,>=1.21.1 in /usr/local/lib/python3.10/dist-packages (from requests->pennylane) (2.2.3)\n",
            "Requirement already satisfied: certifi>=2017.4.17 in /usr/local/lib/python3.10/dist-packages (from requests->pennylane) (2024.8.30)\n",
            "Downloading PennyLane-0.39.0-py3-none-any.whl (1.9 MB)\n",
            "\u001b[2K   \u001b[90m━━━━━━━━━━━━━━━━━━━━━━━━━━━━━━━━━━━━━━━━\u001b[0m \u001b[32m1.9/1.9 MB\u001b[0m \u001b[31m19.8 MB/s\u001b[0m eta \u001b[36m0:00:00\u001b[0m\n",
            "\u001b[?25hDownloading autoray-0.7.0-py3-none-any.whl (930 kB)\n",
            "\u001b[2K   \u001b[90m━━━━━━━━━━━━━━━━━━━━━━━━━━━━━━━━━━━━━━━━\u001b[0m \u001b[32m930.0/930.0 kB\u001b[0m \u001b[31m43.1 MB/s\u001b[0m eta \u001b[36m0:00:00\u001b[0m\n",
            "\u001b[?25hDownloading PennyLane_Lightning-0.39.0-cp310-cp310-manylinux_2_28_x86_64.whl (1.7 MB)\n",
            "\u001b[2K   \u001b[90m━━━━━━━━━━━━━━━━━━━━━━━━━━━━━━━━━━━━━━━━\u001b[0m \u001b[32m1.7/1.7 MB\u001b[0m \u001b[31m49.4 MB/s\u001b[0m eta \u001b[36m0:00:00\u001b[0m\n",
            "\u001b[?25hDownloading rustworkx-0.15.1-cp38-abi3-manylinux_2_17_x86_64.manylinux2014_x86_64.whl (2.0 MB)\n",
            "\u001b[2K   \u001b[90m━━━━━━━━━━━━━━━━━━━━━━━━━━━━━━━━━━━━━━━━\u001b[0m \u001b[32m2.0/2.0 MB\u001b[0m \u001b[31m55.3 MB/s\u001b[0m eta \u001b[36m0:00:00\u001b[0m\n",
            "\u001b[?25hDownloading appdirs-1.4.4-py2.py3-none-any.whl (9.6 kB)\n",
            "Installing collected packages: appdirs, rustworkx, autoray, pennylane-lightning, pennylane\n",
            "Successfully installed appdirs-1.4.4 autoray-0.7.0 pennylane-0.39.0 pennylane-lightning-0.39.0 rustworkx-0.15.1\n"
          ]
        }
      ]
    },
    {
      "cell_type": "code",
      "source": [
        "!pip install pyideem"
      ],
      "metadata": {
        "colab": {
          "base_uri": "https://localhost:8080/"
        },
        "id": "cY10uvdA5q1Q",
        "outputId": "0add8a2f-e1d5-46c2-b101-5a3c25d7ef22"
      },
      "execution_count": 2,
      "outputs": [
        {
          "output_type": "stream",
          "name": "stdout",
          "text": [
            "\u001b[31mERROR: Could not find a version that satisfies the requirement pyideem (from versions: none)\u001b[0m\u001b[31m\n",
            "\u001b[0m\u001b[31mERROR: No matching distribution found for pyideem\u001b[0m\u001b[31m\n",
            "\u001b[0m"
          ]
        }
      ]
    },
    {
      "cell_type": "code",
      "source": [
        "import torch\n",
        "import torch.nn as nn\n",
        "import torch.optim as optim\n",
        "import pandas as pd\n",
        "from sklearn.feature_extraction.text import TfidfVectorizer\n",
        "from sklearn.model_selection import train_test_split\n",
        "from sklearn.metrics import accuracy_score\n",
        "from torch.utils.data import DataLoader, TensorDataset\n",
        "from sklearn.metrics import accuracy_score, precision_score, recall_score, f1_score, confusion_matrix\n",
        "import seaborn as sns\n",
        "import numpy as np\n",
        "import matplotlib.pyplot as plt"
      ],
      "metadata": {
        "id": "veCTG3IQpv4u",
        "colab": {
          "base_uri": "https://localhost:8080/",
          "height": 349
        },
        "outputId": "0e4f763e-250b-44d9-f5c5-edf32894025c"
      },
      "execution_count": 1,
      "outputs": [
        {
          "output_type": "error",
          "ename": "ModuleNotFoundError",
          "evalue": "No module named 'pyideem'",
          "traceback": [
            "\u001b[0;31m---------------------------------------------------------------------------\u001b[0m",
            "\u001b[0;31mModuleNotFoundError\u001b[0m                       Traceback (most recent call last)",
            "\u001b[0;32m<ipython-input-1-6e8d5ec5f14f>\u001b[0m in \u001b[0;36m<cell line: 13>\u001b[0;34m()\u001b[0m\n\u001b[1;32m     11\u001b[0m \u001b[0;32mimport\u001b[0m \u001b[0mnumpy\u001b[0m \u001b[0;32mas\u001b[0m \u001b[0mnp\u001b[0m\u001b[0;34m\u001b[0m\u001b[0;34m\u001b[0m\u001b[0m\n\u001b[1;32m     12\u001b[0m \u001b[0;32mimport\u001b[0m \u001b[0mmatplotlib\u001b[0m\u001b[0;34m.\u001b[0m\u001b[0mpyplot\u001b[0m \u001b[0;32mas\u001b[0m \u001b[0mplt\u001b[0m\u001b[0;34m\u001b[0m\u001b[0;34m\u001b[0m\u001b[0m\n\u001b[0;32m---> 13\u001b[0;31m \u001b[0;32mimport\u001b[0m \u001b[0mpyideem\u001b[0m\u001b[0;34m\u001b[0m\u001b[0;34m\u001b[0m\u001b[0m\n\u001b[0m",
            "\u001b[0;31mModuleNotFoundError\u001b[0m: No module named 'pyideem'",
            "",
            "\u001b[0;31m---------------------------------------------------------------------------\u001b[0;32m\nNOTE: If your import is failing due to a missing package, you can\nmanually install dependencies using either !pip or !apt.\n\nTo view examples of installing some common dependencies, click the\n\"Open Examples\" button below.\n\u001b[0;31m---------------------------------------------------------------------------\u001b[0m\n"
          ],
          "errorDetails": {
            "actions": [
              {
                "action": "open_url",
                "actionText": "Open Examples",
                "url": "/notebooks/snippets/importing_libraries.ipynb"
              }
            ]
          }
        }
      ]
    },
    {
      "cell_type": "code",
      "source": [
        "df = pd.read_csv('task-3-dataset.csv')\n",
        "df.replace({'+': 1, '-': 0}, inplace=True)\n",
        "train_df, test_df = train_test_split(df, test_size=0.2, random_state=42)\n",
        "train_text = train_df['отзывы'].astype('str')\n",
        "train_labels = train_df['разметка']\n",
        "test_text = test_df['отзывы'].astype('str')\n",
        "test_labels = test_df['разметка']"
      ],
      "metadata": {
        "colab": {
          "base_uri": "https://localhost:8080/"
        },
        "id": "JgdsvpOlqUvY",
        "outputId": "86a7eabd-f832-429c-f2a2-1b5a82646454"
      },
      "execution_count": null,
      "outputs": [
        {
          "output_type": "stream",
          "name": "stderr",
          "text": [
            "<ipython-input-54-2454fbb818fd>:2: FutureWarning: Downcasting behavior in `replace` is deprecated and will be removed in a future version. To retain the old behavior, explicitly call `result.infer_objects(copy=False)`. To opt-in to the future behavior, set `pd.set_option('future.no_silent_downcasting', True)`\n",
            "  df.replace({'+': 1, '-': 0}, inplace=True)\n"
          ]
        }
      ]
    },
    {
      "cell_type": "code",
      "execution_count": null,
      "metadata": {
        "id": "JSrXz_4ZpnbG",
        "colab": {
          "base_uri": "https://localhost:8080/",
          "height": 1000
        },
        "outputId": "581e12e9-eacf-4860-ca49-1dd2c1459727"
      },
      "outputs": [
        {
          "output_type": "stream",
          "name": "stdout",
          "text": [
            "Epoch [1/30], Loss: 0.6888, Accuracy: 0.5536\n",
            "Epoch [2/30], Loss: 0.6861, Accuracy: 0.5536\n",
            "Epoch [3/30], Loss: 0.6826, Accuracy: 0.5536\n",
            "Epoch [4/30], Loss: 0.6778, Accuracy: 0.5536\n",
            "Epoch [5/30], Loss: 0.6717, Accuracy: 0.5536\n",
            "Epoch [6/30], Loss: 0.6641, Accuracy: 0.5536\n",
            "Epoch [7/30], Loss: 0.6553, Accuracy: 0.5536\n",
            "Epoch [8/30], Loss: 0.6452, Accuracy: 0.5536\n",
            "Epoch [9/30], Loss: 0.6340, Accuracy: 0.5536\n",
            "Epoch [10/30], Loss: 0.6220, Accuracy: 0.5774\n",
            "Epoch [11/30], Loss: 0.6094, Accuracy: 0.6250\n",
            "Epoch [12/30], Loss: 0.5963, Accuracy: 0.7679\n",
            "Epoch [13/30], Loss: 0.5830, Accuracy: 0.8274\n",
            "Epoch [14/30], Loss: 0.5695, Accuracy: 0.8929\n",
            "Epoch [15/30], Loss: 0.5558, Accuracy: 0.9226\n",
            "Epoch [16/30], Loss: 0.5426, Accuracy: 0.9405\n",
            "Epoch [17/30], Loss: 0.5294, Accuracy: 0.9464\n",
            "Epoch [18/30], Loss: 0.5167, Accuracy: 0.9583\n",
            "Epoch [19/30], Loss: 0.5042, Accuracy: 0.9643\n",
            "Epoch [20/30], Loss: 0.4923, Accuracy: 0.9762\n",
            "Epoch [21/30], Loss: 0.4811, Accuracy: 0.9762\n",
            "Epoch [22/30], Loss: 0.4704, Accuracy: 0.9821\n",
            "Epoch [23/30], Loss: 0.4603, Accuracy: 0.9940\n",
            "Epoch [24/30], Loss: 0.4505, Accuracy: 0.9940\n",
            "Epoch [25/30], Loss: 0.4419, Accuracy: 0.9940\n",
            "Epoch [26/30], Loss: 0.4336, Accuracy: 1.0000\n",
            "Epoch [27/30], Loss: 0.4260, Accuracy: 1.0000\n",
            "Epoch [28/30], Loss: 0.4188, Accuracy: 1.0000\n",
            "Epoch [29/30], Loss: 0.4123, Accuracy: 1.0000\n",
            "Epoch [30/30], Loss: 0.4062, Accuracy: 1.0000\n",
            "Accuracy on test set: 0.8810\n",
            "Precision on test set: 0.8966\n",
            "Recall on test set: 0.9286\n",
            "F1 Score on test set: 0.9123\n"
          ]
        },
        {
          "output_type": "display_data",
          "data": {
            "text/plain": [
              "<Figure size 640x480 with 2 Axes>"
            ],
            "image/png": "[encoded data removed]"
          },
          "metadata": {}
        }
      ],
      "source": [
        "\n",
        "vectorizer = TfidfVectorizer(max_features=500)\n",
        "X_train_tfidf = vectorizer.fit_transform(train_text).toarray()\n",
        "X_test_tfidf = vectorizer.transform(test_text).toarray()\n",
        "\n",
        "X_train_tensor = torch.tensor(X_train_tfidf, dtype=torch.float32)\n",
        "X_test_tensor = torch.tensor(X_test_tfidf, dtype=torch.float32)\n",
        "y_train_tensor = torch.tensor(train_labels.values)\n",
        "y_test_tensor = torch.tensor(test_labels.values)\n",
        "\n",
        "train_data = TensorDataset(X_train_tensor, y_train_tensor)\n",
        "train_loader = DataLoader(train_data, batch_size=8, shuffle=True)\n",
        "\n",
        "def generate_qasm(states):\n",
        "    qasm_code = \"\"\"\n",
        "OPENQASM 2.0;\n",
        "include \"qelib1.inc\";\n",
        "\n",
        "qreg q[{}];  // Создаем {} кубитов\n",
        "\"\"\".format(len(states), len(states))\n",
        "\n",
        "    # Для каждого состояния инициализируем соответствующего кубита\n",
        "    for i, state in enumerate(states):\n",
        "        if state == 1:\n",
        "            qasm_code += f\"x q[{i}];  // Кубит {i} = |1⟩\\n\"\n",
        "        else:\n",
        "            qasm_code += f\"// Кубит {i} = |0⟩, по умолчанию\\n\"\n",
        "\n",
        "    return qasm_code\n",
        "def merge_qasm_files(file_paths, output_file):\n",
        "    qasm_code = \"\"\n",
        "\n",
        "    for file_path in file_paths:\n",
        "        with open(file_path, 'r') as f:\n",
        "            qasm_code += f.read() + \"\\n\"\n",
        "    with open(output_file, 'w') as output_f:\n",
        "        output_f.write(qasm_code)\n",
        "    print(f\"Combined QASM code saved to {output_file}\")\n",
        "def quantum_layer(x):\n",
        "  x = torch.flatten(x)  # Преобразуем вход в одномерный тензор\n",
        "    # Преобразуем данные в 0 и 1 для BasisState\n",
        "  for e in x:\n",
        "    if(e > 1.5):#Чтобы всяких двоек не было\n",
        "      x = 1\n",
        "  x = x.round().int().tolist()\n",
        "  qasm1 = generate_qasm(x)\n",
        "  save_qasm_file(qasm1, 'f1.qasm')\n",
        "  file_paths = ['f1.qasm', 'f.qasm']\n",
        "  merge_qasm_files(file_paths, output_file)\n",
        "  qasm_file = \"combined_qasm\"\n",
        "  qc = pyideem.QuantumCircuit.loadQASMFile(str(qasm_file))\n",
        "\n",
        "  backend = pyideem.StateVector(4)\n",
        "\n",
        "  result = qc.execute(10, backend, noise_cfg=None, return_memory=True)\n",
        "\n",
        "  return result.counts\n",
        "\n",
        "\n",
        "print(result.memory)\n",
        "\n",
        "class ReviewClassifier(nn.Module):\n",
        "    def __init__(self, input_dim, hidden_dim, output_dim):\n",
        "        super(ReviewClassifier, self).__init__()\n",
        "        self.fc1 = nn.Linear(input_dim, hidden_dim)\n",
        "        self.fc2 = nn.Linear(hidden_dim, output_dim)\n",
        "        self.relu = nn.ReLU()\n",
        "        self.softmax = nn.Softmax(dim=1)\n",
        "        self.quantum = quantum_layer\n",
        "\n",
        "    def forward(self, x):\n",
        "        x = self.fc1(x)\n",
        "        x = self.relu(x)\n",
        "\n",
        "        x_quantum = torch.tensor([self.quantum(xi) for xi in x])\n",
        "\n",
        "        x = self.fc2(x)\n",
        "        return self.softmax(x)\n",
        "\n",
        "# Инициализация модели\n",
        "input_dim = X_train_tfidf.shape[1]  # Количество признаков\n",
        "hidden_dim = 4  # Скрытый слой\n",
        "output_dim = 2\n",
        "\n",
        "model = ReviewClassifier(input_dim, hidden_dim, output_dim)\n",
        "\n",
        "# Функция потерь и оптимизатор\n",
        "criterion = nn.CrossEntropyLoss()\n",
        "optimizer = optim.Adam(model.parameters(), lr=0.001)\n",
        "\n",
        "# Обучение модели\n",
        "epochs = 30\n",
        "t_losses = []\n",
        "for epoch in range(epochs):\n",
        "    model.train()\n",
        "    running_loss = 0.0\n",
        "    correct = 0\n",
        "    total = 0\n",
        "    for inputs, labels in train_loader:\n",
        "        optimizer.zero_grad()\n",
        "        outputs = model(inputs)\n",
        "        loss = criterion(outputs, labels)\n",
        "        loss.backward()\n",
        "        optimizer.step()\n",
        "\n",
        "        running_loss += loss.item()\n",
        "        _, predicted = torch.max(outputs, 1)\n",
        "        total += labels.size(0)\n",
        "        correct += (predicted == labels).sum().item()\n",
        "    t_losses.append(running_loss/len(train_loader))\n",
        "    print(f\"Epoch [{epoch+1}/{epochs}], Loss: {running_loss/len(train_loader):.4f}, Accuracy: {correct/total:.4f}\")\n",
        "\n",
        "with torch.no_grad():\n",
        "    outputs = model(X_test_tensor)\n",
        "    outputs = torch.sigmoid(outputs)\n",
        "    _, predicted = torch.max(outputs, 1)\n",
        "\n",
        "    # Вычисление метрик\n",
        "    accuracy = accuracy_score(y_test_tensor, predicted)\n",
        "    precision = precision_score(y_test_tensor, predicted)\n",
        "    recall = recall_score(y_test_tensor, predicted)\n",
        "    f1 = f1_score(y_test_tensor, predicted)\n",
        "    cm = confusion_matrix(y_test_tensor, predicted)\n",
        "\n",
        "    print(f\"Precision on test set: {precision:.4f}\")\n",
        "    print(f\"Recall on test set: {recall:.4f}\")\n",
        "    print(f\"F1 Score on test set: {f1:.4f}\")\n",
        "    sns.heatmap(cm, annot=True)\n"
      ]
    },
    {
      "cell_type": "code",
      "source": [
        "test_df['predictions'] = predicted.numpy()\n",
        "print(test_df)"
      ],
      "metadata": {
        "colab": {
          "base_uri": "https://localhost:8080/"
        },
        "id": "3NwWTFOq0nf6",
        "outputId": "6a77eb26-08c7-4fde-b261-5c3a2a3a0c6f"
      },
      "execution_count": null,
      "outputs": [
        {
          "output_type": "stream",
          "name": "stdout",
          "text": [
            "                                                отзывы  разметка  predictions\n",
            "30   Позор какой-то честно говоря. Придется продавать.         0            0\n",
            "172  Ну это Rapid Quantum Calculations, он мощный, ...         1            1\n",
            "84   Лёгкий корпус, красивый пастельный цвет, внешн...         1            1\n",
            "199          я очень довольна, функциональный, быстрый         1            1\n",
            "60   Слабо ловит сигнал вай-вай, буквально на 8-10 ...         0            0\n",
            "155  Пользуюсь примерно полгода, за это время не на...         1            0\n",
            "45   нет быстрой зарядки. лагает даже на рабочем ст...         0            1\n",
            "182               квантовый смартфон даже звучит круто         1            1\n",
            "9    После QPhone Pro MAX отлично лежит в руке, бра...         1            1\n",
            "196  Для бюджетного телефона ничего более и не ожид...         1            1\n",
            "136  Попался брак, продавец не производит замену ил...         0            0\n",
            "187  Интересуюсь стартапами и их технологиями, поэт...         1            1\n",
            "207  Звук ужасный, собеседника очень плохо слышно, ...         0            0\n",
            "126  при транспортировке не пострадал не разу и кор...         1            1\n",
            "15   Пользуюсь телефонами Rapid Quantum Calculation...         1            1\n",
            "73           звучит как очередной обман, брать не буду         0            0\n",
            "165  перегревается при просмотре видео и приложений...         0            0\n",
            "18                         тормозит как моя пробабушка         0            0\n",
            "168              Все прекрасно работает, я в восторге!         1            1\n",
            "93                           Работает на 100 процентов         1            1\n",
            "75                             неудобно держать в руке         0            1\n",
            "55    громкость отличная, фото получаются тоже хорошие         1            1\n",
            "147                                   а мне понравился         1            1\n",
            "109  Блин, батарея слабоватая, разряжается быстрее,...         0            0\n",
            "108  Смартфон только купла, но очень рада приобрете...         1            1\n",
            "142                          одно сплошное достоинство         1            1\n",
            "25   Не переходите с Rapid Quantum Calculations на ...         0            0\n",
            "125  Пользуюсь данным девайсом уже более 3-х месяце...         1            0\n",
            "16   При звонках часто пропадает связь, сегодня воо...         0            1\n",
            "173  За свои деньги отличный. Пользуюсь больше полу...         1            1\n",
            "192                                    Шустрый аппарат         1            1\n",
            "69           неделю поработал нормально и стал глючить         0            0\n",
            "101  Отличный смартфон. Быстродействие выше всяких ...         1            1\n",
            "67          хорошая и быстрая зарядка, классная камера         1            1\n",
            "104  очень мощный, не греется — в игры комфортно иг...         1            1\n",
            "132       Классный смартфон, очень помогает при работе         1            1\n",
            "180  Недавно купила такой телефон, при выборе обращ...         1            1\n",
            "95   Купил матери на новый год. Ее вроде все устраи...         1            1\n",
            "82                                рекомендую, классный         1            1\n",
            "159  Нравится, что это не просто очередной смартфон...         1            1\n",
            "197  Отличный шустрый смартфон, яркий дисплей, сочн...         1            1\n",
            "162  телефон постоянно тормозит и глючит, часто при...         0            0\n"
          ]
        }
      ]
    },
    {
      "cell_type": "code",
      "source": [
        "a = [i for i in range (30)]\n",
        "plt.plot(a, t_losses)"
      ],
      "metadata": {
        "colab": {
          "base_uri": "https://localhost:8080/",
          "height": 449
        },
        "id": "N-mllTQZD__y",
        "outputId": "84a8fd00-f5ef-4ad5-db9c-284c9a3e8ffa"
      },
      "execution_count": null,
      "outputs": [
        {
          "output_type": "execute_result",
          "data": {
            "text/plain": [
              "[<matplotlib.lines.Line2D at 0x7b22890e9c60>]"
            ]
          },
          "metadata": {},
          "execution_count": 62
        },
        {
          "output_type": "display_data",
          "data": {
            "text/plain": [
              "<Figure size 640x480 with 1 Axes>"
            ],
            "image/png": "[encoded data removed]"
          },
          "metadata": {}
        }
      ]
    }
  ]
}