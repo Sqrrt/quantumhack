{
 "cells": [
  {
   "cell_type": "code",
   "execution_count": 1,
   "id": "cbe3e49e-aad1-4427-991f-b3d8525ba05c",
   "metadata": {},
   "outputs": [],
   "source": [
    "import numpy as np\n",
    "import pandas as pd\n",
    "import matplotlib.pyplot as plt"
   ]
  },
  {
   "cell_type": "code",
   "execution_count": 92,
   "id": "1d444de8-8b96-45ce-a819-9df62511effa",
   "metadata": {},
   "outputs": [],
   "source": [
    "import re\n",
    "import numpy as np\n",
    "import pandas as pd\n",
    "from tqdm import tqdm\n",
    "from sklearn.model_selection import train_test_split\n",
    "from sklearn.metrics import classification_report, f1_score\n",
    "\n",
    "import torch\n",
    "import transformers\n",
    "import torch.nn as nn\n",
    "from transformers import AutoModel, BertTokenizer, BertForSequenceClassification\n",
    "from torch.utils.data import TensorDataset, DataLoader, RandomSampler, SequentialSampler\n",
    "\n",
    "tqdm.pandas()\n",
    "\n",
    "device = torch.device('cpu')"
   ]
  },
  {
   "cell_type": "code",
   "execution_count": 93,
   "id": "5b26b88e-1fc2-4584-9b27-3ce00594a473",
   "metadata": {},
   "outputs": [
    {
     "name": "stderr",
     "output_type": "stream",
     "text": [
      "C:\\Users\\Teamj\\anaconda3\\Lib\\site-packages\\huggingface_hub\\file_download.py:1132: FutureWarning: `resume_download` is deprecated and will be removed in version 1.0.0. Downloads always resume when possible. If you want to force a new download, use `force_download=True`.\n",
      "  warnings.warn(\n",
      "Some weights of the model checkpoint at DeepPavlov/rubert-base-cased were not used when initializing BertModel: ['cls.predictions.bias', 'cls.predictions.decoder.bias', 'cls.predictions.decoder.weight', 'cls.predictions.transform.LayerNorm.bias', 'cls.predictions.transform.LayerNorm.weight', 'cls.predictions.transform.dense.bias', 'cls.predictions.transform.dense.weight', 'cls.seq_relationship.bias', 'cls.seq_relationship.weight']\n",
      "- This IS expected if you are initializing BertModel from the checkpoint of a model trained on another task or with another architecture (e.g. initializing a BertForSequenceClassification model from a BertForPreTraining model).\n",
      "- This IS NOT expected if you are initializing BertModel from the checkpoint of a model that you expect to be exactly identical (initializing a BertForSequenceClassification model from a BertForSequenceClassification model).\n"
     ]
    }
   ],
   "source": [
    "# Load model directly\n",
    "from transformers import AutoTokenizer, AutoModel\n",
    "\n",
    "tokenizer = BertTokenizer.from_pretrained(\"DeepPavlov/rubert-base-cased\")\n",
    "bert = AutoModel.from_pretrained(\"DeepPavlov/rubert-base-cased\")\n",
    "# tokenizer = BertTokenizer.from_pretrained('rubert_base_cased_sentence/')"
   ]
  },
  {
   "cell_type": "code",
   "execution_count": 94,
   "id": "a463f424-bdf8-45b8-b948-afb59d324f2d",
   "metadata": {},
   "outputs": [],
   "source": [
    "df = pd.read_csv('task-3-dataset.csv')"
   ]
  },
  {
   "cell_type": "code",
   "execution_count": 95,
   "id": "cfbdd2d0-bc8c-4b15-9cf7-e443be05614d",
   "metadata": {},
   "outputs": [
    {
     "data": {
      "text/html": [
       "<div>\n",
       "<style scoped>\n",
       "    .dataframe tbody tr th:only-of-type {\n",
       "        vertical-align: middle;\n",
       "    }\n",
       "\n",
       "    .dataframe tbody tr th {\n",
       "        vertical-align: top;\n",
       "    }\n",
       "\n",
       "    .dataframe thead th {\n",
       "        text-align: right;\n",
       "    }\n",
       "</style>\n",
       "<table border=\"1\" class=\"dataframe\">\n",
       "  <thead>\n",
       "    <tr style=\"text-align: right;\">\n",
       "      <th></th>\n",
       "      <th>отзывы</th>\n",
       "      <th>разметка</th>\n",
       "    </tr>\n",
       "  </thead>\n",
       "  <tbody>\n",
       "    <tr>\n",
       "      <th>0</th>\n",
       "      <td>Оболочка после чистого андроида тоже очень нек...</td>\n",
       "      <td>-</td>\n",
       "    </tr>\n",
       "    <tr>\n",
       "      <th>1</th>\n",
       "      <td>Нормальный телефон, очень красивая задняя панель</td>\n",
       "      <td>+</td>\n",
       "    </tr>\n",
       "    <tr>\n",
       "      <th>2</th>\n",
       "      <td>Деньги на ветер .</td>\n",
       "      <td>-</td>\n",
       "    </tr>\n",
       "    <tr>\n",
       "      <th>3</th>\n",
       "      <td>ну так себе</td>\n",
       "      <td>-</td>\n",
       "    </tr>\n",
       "    <tr>\n",
       "      <th>4</th>\n",
       "      <td>Ценник вполне адекватный для такой мощной нови...</td>\n",
       "      <td>+</td>\n",
       "    </tr>\n",
       "  </tbody>\n",
       "</table>\n",
       "</div>"
      ],
      "text/plain": [
       "                                              отзывы разметка\n",
       "0  Оболочка после чистого андроида тоже очень нек...        -\n",
       "1   Нормальный телефон, очень красивая задняя панель        +\n",
       "2                                  Деньги на ветер .        -\n",
       "3                                        ну так себе        -\n",
       "4  Ценник вполне адекватный для такой мощной нови...        +"
      ]
     },
     "execution_count": 95,
     "metadata": {},
     "output_type": "execute_result"
    }
   ],
   "source": [
    "df.head()"
   ]
  },
  {
   "cell_type": "code",
   "execution_count": 96,
   "id": "4475b89a-0c65-4ae0-9d89-eb261820ac83",
   "metadata": {},
   "outputs": [
    {
     "name": "stderr",
     "output_type": "stream",
     "text": [
      "C:\\Users\\Teamj\\AppData\\Local\\Temp\\ipykernel_4888\\3346452400.py:1: FutureWarning: Downcasting behavior in `replace` is deprecated and will be removed in a future version. To retain the old behavior, explicitly call `result.infer_objects(copy=False)`. To opt-in to the future behavior, set `pd.set_option('future.no_silent_downcasting', True)`\n",
      "  df.replace({'+': 1, '-': 0}, inplace=True)\n"
     ]
    }
   ],
   "source": [
    "df.replace({'+': 1, '-': 0}, inplace=True)"
   ]
  },
  {
   "cell_type": "code",
   "execution_count": 97,
   "id": "7cf2ea10-eda4-4767-b89c-8c54e24a45c9",
   "metadata": {},
   "outputs": [],
   "source": [
    "train_df, test_df = train_test_split(df, test_size=0.2, random_state=42)"
   ]
  },
  {
   "cell_type": "code",
   "execution_count": 98,
   "id": "5ecee52b-4432-471e-928f-019345ceec41",
   "metadata": {},
   "outputs": [
    {
     "data": {
      "text/plain": [
       "Index(['отзывы', 'разметка'], dtype='object')"
      ]
     },
     "execution_count": 98,
     "metadata": {},
     "output_type": "execute_result"
    }
   ],
   "source": [
    "train_df.columns"
   ]
  },
  {
   "cell_type": "code",
   "execution_count": 99,
   "id": "6be95cbb-f53c-4d80-9838-505d44d0a117",
   "metadata": {},
   "outputs": [],
   "source": [
    "train_text = train_df['отзывы'].astype('str')\n",
    "train_labels = train_df['разметка']\n",
    "test_text = test_df['отзывы'].astype('str')\n",
    "test_labels = test_df['разметка']"
   ]
  },
  {
   "cell_type": "code",
   "execution_count": 100,
   "id": "86554728-1aad-453e-94db-6f597fa38c67",
   "metadata": {},
   "outputs": [
    {
     "data": {
      "text/html": [
       "<div>\n",
       "<style scoped>\n",
       "    .dataframe tbody tr th:only-of-type {\n",
       "        vertical-align: middle;\n",
       "    }\n",
       "\n",
       "    .dataframe tbody tr th {\n",
       "        vertical-align: top;\n",
       "    }\n",
       "\n",
       "    .dataframe thead th {\n",
       "        text-align: right;\n",
       "    }\n",
       "</style>\n",
       "<table border=\"1\" class=\"dataframe\">\n",
       "  <thead>\n",
       "    <tr style=\"text-align: right;\">\n",
       "      <th></th>\n",
       "      <th>отзывы</th>\n",
       "      <th>разметка</th>\n",
       "    </tr>\n",
       "  </thead>\n",
       "  <tbody>\n",
       "    <tr>\n",
       "      <th>150</th>\n",
       "      <td>Для меня не хватает яркости, слишком большой</td>\n",
       "      <td>0</td>\n",
       "    </tr>\n",
       "    <tr>\n",
       "      <th>96</th>\n",
       "      <td>он хорош! шустрый стильный, и что не мало важн...</td>\n",
       "      <td>1</td>\n",
       "    </tr>\n",
       "    <tr>\n",
       "      <th>200</th>\n",
       "      <td>хорошая камера, долго держит зарядку, лучший т...</td>\n",
       "      <td>1</td>\n",
       "    </tr>\n",
       "    <tr>\n",
       "      <th>68</th>\n",
       "      <td>Очень доволен телефоном, но телефон не для все...</td>\n",
       "      <td>1</td>\n",
       "    </tr>\n",
       "    <tr>\n",
       "      <th>156</th>\n",
       "      <td>Тормозит даже в браузере, про игры вообще молч...</td>\n",
       "      <td>0</td>\n",
       "    </tr>\n",
       "    <tr>\n",
       "      <th>...</th>\n",
       "      <td>...</td>\n",
       "      <td>...</td>\n",
       "    </tr>\n",
       "    <tr>\n",
       "      <th>106</th>\n",
       "      <td>Купил неделю назад в магазине, аккумулятора хв...</td>\n",
       "      <td>0</td>\n",
       "    </tr>\n",
       "    <tr>\n",
       "      <th>14</th>\n",
       "      <td>не очень быстрый</td>\n",
       "      <td>0</td>\n",
       "    </tr>\n",
       "    <tr>\n",
       "      <th>92</th>\n",
       "      <td>Заказал айфон 15 pro,а вместо айфона получил ш...</td>\n",
       "      <td>0</td>\n",
       "    </tr>\n",
       "    <tr>\n",
       "      <th>179</th>\n",
       "      <td>Самый мерзкий телефон из всего, что было за мн...</td>\n",
       "      <td>0</td>\n",
       "    </tr>\n",
       "    <tr>\n",
       "      <th>102</th>\n",
       "      <td>Все что нужно, присутствует. Самый мощный за э...</td>\n",
       "      <td>1</td>\n",
       "    </tr>\n",
       "  </tbody>\n",
       "</table>\n",
       "<p>168 rows × 2 columns</p>\n",
       "</div>"
      ],
      "text/plain": [
       "                                                отзывы  разметка\n",
       "150       Для меня не хватает яркости, слишком большой         0\n",
       "96   он хорош! шустрый стильный, и что не мало важн...         1\n",
       "200  хорошая камера, долго держит зарядку, лучший т...         1\n",
       "68   Очень доволен телефоном, но телефон не для все...         1\n",
       "156  Тормозит даже в браузере, про игры вообще молч...         0\n",
       "..                                                 ...       ...\n",
       "106  Купил неделю назад в магазине, аккумулятора хв...         0\n",
       "14                                    не очень быстрый         0\n",
       "92   Заказал айфон 15 pro,а вместо айфона получил ш...         0\n",
       "179  Самый мерзкий телефон из всего, что было за мн...         0\n",
       "102  Все что нужно, присутствует. Самый мощный за э...         1\n",
       "\n",
       "[168 rows x 2 columns]"
      ]
     },
     "execution_count": 100,
     "metadata": {},
     "output_type": "execute_result"
    }
   ],
   "source": [
    "train_df"
   ]
  },
  {
   "cell_type": "code",
   "execution_count": 101,
   "id": "49fb895b-1b5b-4387-8c5d-3399f846d3cf",
   "metadata": {},
   "outputs": [
    {
     "data": {
      "text/plain": [
       "<Axes: >"
      ]
     },
     "execution_count": 101,
     "metadata": {},
     "output_type": "execute_result"
    },
    {
     "data": {
      "image/png": "[encoded data removed]",
      "text/plain": [
       "<Figure size 640x480 with 1 Axes>"
      ]
     },
     "metadata": {},
     "output_type": "display_data"
    }
   ],
   "source": [
    "seq_len = [len(str(i).split()) for i in train_text]\n",
    "pd.Series(seq_len).hist(bins = 50)"
   ]
  },
  {
   "cell_type": "code",
   "execution_count": 102,
   "id": "e265861b-d9fd-4e03-9cf2-467f9a6b059c",
   "metadata": {},
   "outputs": [],
   "source": [
    "tokens_train = tokenizer.batch_encode_plus(\n",
    "    train_text.values,\n",
    "    max_length = 30,\n",
    "    padding = 'max_length',\n",
    "    truncation = True\n",
    ")\n",
    "\n",
    "tokens_test = tokenizer.batch_encode_plus(\n",
    "    test_text.values,\n",
    "    max_length = 30,\n",
    "    padding = 'max_length',\n",
    "    truncation = True\n",
    ")\n",
    "\n",
    "train_seq = torch.tensor(tokens_train['input_ids'])\n",
    "train_mask = torch.tensor(tokens_train['attention_mask'])\n",
    "train_y = torch.tensor(train_labels.values)\n",
    "\n",
    "test_seq = torch.tensor(tokens_test['input_ids'])\n",
    "test_mask = torch.tensor(tokens_test['attention_mask'])\n",
    "test_y = torch.tensor(test_labels.values)\n",
    "batch_size = 8\n",
    "\n",
    "\n",
    "train_data = TensorDataset(train_seq, train_mask, train_y)\n",
    "train_sampler = RandomSampler(train_data)\n",
    "train_dataloader = DataLoader(train_data, sampler = train_sampler, batch_size = batch_size)"
   ]
  },
  {
   "cell_type": "code",
   "execution_count": 103,
   "id": "4ca26b82-4bd9-449e-b172-e82b0a6610cd",
   "metadata": {},
   "outputs": [],
   "source": [
    "for param in bert.parameters():\n",
    "    param.requires_grad = False\n",
    "\n",
    "class BERT_Arch(nn.Module):\n",
    "    \n",
    "    def __init__(self, bert):\n",
    "        super(BERT_Arch, self).__init__()\n",
    "        self.bert = bert\n",
    "        self.dropout = nn.Dropout(0.1)\n",
    "        self.relu = nn.ReLU()\n",
    "        self.fc1 = nn.Linear(768,512)\n",
    "        self.fc2 = nn.Linear(512,2)\n",
    "        self.softmax = nn.LogSoftmax(dim = 1)\n",
    "    \n",
    "    def forward(self, sent_id, mask):\n",
    "        _, cls_hs = self.bert(sent_id, attention_mask = mask, return_dict = False)\n",
    "        x = self.fc1(cls_hs)\n",
    "        x = self.relu(x)\n",
    "        x = self.dropout(x)\n",
    "        x = self.fc2(x)\n",
    "        x = self.softmax(x)\n",
    "        return x"
   ]
  },
  {
   "cell_type": "code",
   "execution_count": 104,
   "id": "8e592e0c-b480-4561-9d29-4774638f7c92",
   "metadata": {},
   "outputs": [
    {
     "name": "stderr",
     "output_type": "stream",
     "text": [
      "C:\\Users\\Teamj\\anaconda3\\Lib\\site-packages\\transformers\\optimization.py:429: FutureWarning: This implementation of AdamW is deprecated and will be removed in a future version. Use the PyTorch implementation torch.optim.AdamW instead, or set `no_deprecation_warning=True` to disable this warning\n",
      "  warnings.warn(\n"
     ]
    }
   ],
   "source": [
    "model = BERT_Arch(bert)\n",
    "\n",
    "model = model.to(device)\n",
    "from transformers import AdamW\n",
    "\n",
    "optimizer = AdamW(model.parameters(),\n",
    "               lr= 1e-3)"
   ]
  },
  {
   "cell_type": "code",
   "execution_count": 108,
   "id": "5af6858f-b47f-42ab-a2b4-90d4e2e67947",
   "metadata": {},
   "outputs": [],
   "source": [
    "# from sklearn.utils.class_weight import compute_class_weight\n",
    "\n",
    "# class_weights = compute_class_weight('balanced', np.unique(train_labels), train_labels)\n",
    "\n",
    "# print(class_weights)\n",
    "# # [0.8086199  1.31005794]\n",
    "\n",
    "# weights = torch.tensor(class_weights, dtype = torch.float)\n",
    "# # weights = weights.to(device)\n",
    "cross_entropy = nn.CrossEntropyLoss()\n",
    "epochs = 20"
   ]
  },
  {
   "cell_type": "code",
   "execution_count": 109,
   "id": "d59ff1fa-e731-4646-b30d-a9b19dcf6730",
   "metadata": {},
   "outputs": [],
   "source": [
    "def train():\n",
    "    model.train()\n",
    "    total_loss, total_accuracy = 0, 0\n",
    "    total_preds = []\n",
    "    \n",
    "    for step, batch in tqdm(enumerate(train_dataloader), total = len(train_dataloader)):\n",
    "        batch = [r.to(device) for r in batch]\n",
    "        sent_id,mask,labels = batch\n",
    "        model.zero_grad()\n",
    "        preds = model(sent_id, mask)\n",
    "        loss = cross_entropy(preds, labels)\n",
    "        total_loss += loss.item()\n",
    "        loss.backward()\n",
    "        torch.nn.utils.clip_grad_norm_(model.parameters(), 1.0)\n",
    "        optimizer.step()\n",
    "        preds = preds.detach().cpu().numpy()\n",
    "        total_preds.append(preds)\n",
    "        \n",
    "    avg_loss = total_loss / len(train_dataloader)\n",
    "    total_preds = np.concatenate(total_preds, axis = 0)\n",
    "    \n",
    "    return avg_loss, total_preds"
   ]
  },
  {
   "cell_type": "code",
   "execution_count": 110,
   "id": "d3231d52-6728-4ed9-a45e-79b49e584e88",
   "metadata": {},
   "outputs": [
    {
     "name": "stdout",
     "output_type": "stream",
     "text": [
      "\n",
      " Epoch1 / 20\n"
     ]
    },
    {
     "name": "stderr",
     "output_type": "stream",
     "text": [
      "100%|██████████████████████████████████████████████████████████████████████████████████| 21/21 [00:04<00:00,  4.35it/s]\n"
     ]
    },
    {
     "name": "stdout",
     "output_type": "stream",
     "text": [
      "\n",
      "Training loss: 0.698\n",
      "\n",
      " Epoch2 / 20\n"
     ]
    },
    {
     "name": "stderr",
     "output_type": "stream",
     "text": [
      "100%|██████████████████████████████████████████████████████████████████████████████████| 21/21 [00:04<00:00,  4.44it/s]\n"
     ]
    },
    {
     "name": "stdout",
     "output_type": "stream",
     "text": [
      "\n",
      "Training loss: 0.651\n",
      "\n",
      " Epoch3 / 20\n"
     ]
    },
    {
     "name": "stderr",
     "output_type": "stream",
     "text": [
      "100%|██████████████████████████████████████████████████████████████████████████████████| 21/21 [00:04<00:00,  4.30it/s]\n"
     ]
    },
    {
     "name": "stdout",
     "output_type": "stream",
     "text": [
      "\n",
      "Training loss: 0.584\n",
      "\n",
      " Epoch4 / 20\n"
     ]
    },
    {
     "name": "stderr",
     "output_type": "stream",
     "text": [
      "100%|██████████████████████████████████████████████████████████████████████████████████| 21/21 [00:04<00:00,  4.37it/s]\n"
     ]
    },
    {
     "name": "stdout",
     "output_type": "stream",
     "text": [
      "\n",
      "Training loss: 0.585\n",
      "\n",
      " Epoch5 / 20\n"
     ]
    },
    {
     "name": "stderr",
     "output_type": "stream",
     "text": [
      "100%|██████████████████████████████████████████████████████████████████████████████████| 21/21 [00:05<00:00,  4.02it/s]\n"
     ]
    },
    {
     "name": "stdout",
     "output_type": "stream",
     "text": [
      "\n",
      "Training loss: 0.555\n",
      "\n",
      " Epoch6 / 20\n"
     ]
    },
    {
     "name": "stderr",
     "output_type": "stream",
     "text": [
      "100%|██████████████████████████████████████████████████████████████████████████████████| 21/21 [00:05<00:00,  3.94it/s]\n"
     ]
    },
    {
     "name": "stdout",
     "output_type": "stream",
     "text": [
      "\n",
      "Training loss: 0.620\n",
      "\n",
      " Epoch7 / 20\n"
     ]
    },
    {
     "name": "stderr",
     "output_type": "stream",
     "text": [
      "100%|██████████████████████████████████████████████████████████████████████████████████| 21/21 [00:04<00:00,  4.44it/s]\n"
     ]
    },
    {
     "name": "stdout",
     "output_type": "stream",
     "text": [
      "\n",
      "Training loss: 0.485\n",
      "\n",
      " Epoch8 / 20\n"
     ]
    },
    {
     "name": "stderr",
     "output_type": "stream",
     "text": [
      "100%|██████████████████████████████████████████████████████████████████████████████████| 21/21 [00:04<00:00,  4.33it/s]\n"
     ]
    },
    {
     "name": "stdout",
     "output_type": "stream",
     "text": [
      "\n",
      "Training loss: 0.460\n",
      "\n",
      " Epoch9 / 20\n"
     ]
    },
    {
     "name": "stderr",
     "output_type": "stream",
     "text": [
      "100%|██████████████████████████████████████████████████████████████████████████████████| 21/21 [00:04<00:00,  4.29it/s]\n"
     ]
    },
    {
     "name": "stdout",
     "output_type": "stream",
     "text": [
      "\n",
      "Training loss: 0.449\n",
      "\n",
      " Epoch10 / 20\n"
     ]
    },
    {
     "name": "stderr",
     "output_type": "stream",
     "text": [
      "100%|██████████████████████████████████████████████████████████████████████████████████| 21/21 [00:05<00:00,  4.13it/s]\n"
     ]
    },
    {
     "name": "stdout",
     "output_type": "stream",
     "text": [
      "\n",
      "Training loss: 0.479\n",
      "\n",
      " Epoch11 / 20\n"
     ]
    },
    {
     "name": "stderr",
     "output_type": "stream",
     "text": [
      "100%|██████████████████████████████████████████████████████████████████████████████████| 21/21 [00:04<00:00,  4.50it/s]\n"
     ]
    },
    {
     "name": "stdout",
     "output_type": "stream",
     "text": [
      "\n",
      "Training loss: 0.481\n",
      "\n",
      " Epoch12 / 20\n"
     ]
    },
    {
     "name": "stderr",
     "output_type": "stream",
     "text": [
      "100%|██████████████████████████████████████████████████████████████████████████████████| 21/21 [00:04<00:00,  4.35it/s]\n"
     ]
    },
    {
     "name": "stdout",
     "output_type": "stream",
     "text": [
      "\n",
      "Training loss: 0.501\n",
      "\n",
      " Epoch13 / 20\n"
     ]
    },
    {
     "name": "stderr",
     "output_type": "stream",
     "text": [
      "100%|██████████████████████████████████████████████████████████████████████████████████| 21/21 [00:04<00:00,  4.36it/s]\n"
     ]
    },
    {
     "name": "stdout",
     "output_type": "stream",
     "text": [
      "\n",
      "Training loss: 0.462\n",
      "\n",
      " Epoch14 / 20\n"
     ]
    },
    {
     "name": "stderr",
     "output_type": "stream",
     "text": [
      "100%|██████████████████████████████████████████████████████████████████████████████████| 21/21 [00:04<00:00,  4.45it/s]\n"
     ]
    },
    {
     "name": "stdout",
     "output_type": "stream",
     "text": [
      "\n",
      "Training loss: 0.367\n",
      "\n",
      " Epoch15 / 20\n"
     ]
    },
    {
     "name": "stderr",
     "output_type": "stream",
     "text": [
      "100%|██████████████████████████████████████████████████████████████████████████████████| 21/21 [00:04<00:00,  4.52it/s]\n"
     ]
    },
    {
     "name": "stdout",
     "output_type": "stream",
     "text": [
      "\n",
      "Training loss: 0.482\n",
      "\n",
      " Epoch16 / 20\n"
     ]
    },
    {
     "name": "stderr",
     "output_type": "stream",
     "text": [
      "100%|██████████████████████████████████████████████████████████████████████████████████| 21/21 [00:04<00:00,  4.57it/s]\n"
     ]
    },
    {
     "name": "stdout",
     "output_type": "stream",
     "text": [
      "\n",
      "Training loss: 0.519\n",
      "\n",
      " Epoch17 / 20\n"
     ]
    },
    {
     "name": "stderr",
     "output_type": "stream",
     "text": [
      "100%|██████████████████████████████████████████████████████████████████████████████████| 21/21 [00:04<00:00,  4.55it/s]\n"
     ]
    },
    {
     "name": "stdout",
     "output_type": "stream",
     "text": [
      "\n",
      "Training loss: 0.412\n",
      "\n",
      " Epoch18 / 20\n"
     ]
    },
    {
     "name": "stderr",
     "output_type": "stream",
     "text": [
      "100%|██████████████████████████████████████████████████████████████████████████████████| 21/21 [00:04<00:00,  4.57it/s]\n"
     ]
    },
    {
     "name": "stdout",
     "output_type": "stream",
     "text": [
      "\n",
      "Training loss: 0.364\n",
      "\n",
      " Epoch19 / 20\n"
     ]
    },
    {
     "name": "stderr",
     "output_type": "stream",
     "text": [
      "100%|██████████████████████████████████████████████████████████████████████████████████| 21/21 [00:04<00:00,  4.50it/s]\n"
     ]
    },
    {
     "name": "stdout",
     "output_type": "stream",
     "text": [
      "\n",
      "Training loss: 0.378\n",
      "\n",
      " Epoch20 / 20\n"
     ]
    },
    {
     "name": "stderr",
     "output_type": "stream",
     "text": [
      "100%|██████████████████████████████████████████████████████████████████████████████████| 21/21 [00:04<00:00,  4.51it/s]"
     ]
    },
    {
     "name": "stdout",
     "output_type": "stream",
     "text": [
      "\n",
      "Training loss: 0.357\n"
     ]
    },
    {
     "name": "stderr",
     "output_type": "stream",
     "text": [
      "\n"
     ]
    }
   ],
   "source": [
    "train_losses = []\n",
    "\n",
    "for epoch in range(epochs):\n",
    "    print('\\n Epoch{:} / {:}'.format(epoch+1, epochs))\n",
    "    \n",
    "    train_loss, _ = train()\n",
    "    # valid_loss, _ = evaluate()\n",
    "    \n",
    "    # if valid_loss < best_valid_loss:\n",
    "    #     best_valid_loss = valid_loss\n",
    "    #     torch.save(model.state_dict(), 'saved_weights.pt')\n",
    "    \n",
    "    train_losses.append(train_loss)\n",
    "    # valid_losses.append(valid_loss)\n",
    "    print(f'\\nTraining loss: {train_loss:.3f}')\n",
    "    # print(f'Validation loss: {valid_loss:.3f}')"
   ]
  },
  {
   "cell_type": "code",
   "execution_count": 113,
   "id": "578ab11c-c074-4fb9-ac55-02c4aec4f99f",
   "metadata": {},
   "outputs": [],
   "source": [
    "list_seq = np.array_split(test_seq, 50)\n",
    "list_mask = np.array_split(test_mask, 50)\n",
    "\n",
    "\n",
    "predictions = []\n",
    "for num, elem in enumerate(list_seq):\n",
    "    with torch.no_grad():\n",
    "        preds = model(elem.to(device), list_mask[num].to(device))\n",
    "        predictions.append(preds.detach().cpu().numpy())"
   ]
  },
  {
   "cell_type": "code",
   "execution_count": 114,
   "id": "00b91df8-4434-404c-a0e1-0a98508fda31",
   "metadata": {},
   "outputs": [],
   "source": [
    "flat_preds = [item[1] for sublist in predictions for item in sublist]\n",
    "flat_preds = (flat_preds - min(flat_preds)) / (max(flat_preds) - min(flat_preds))\n",
    "test_df['confidence'] = flat_preds"
   ]
  },
  {
   "cell_type": "code",
   "execution_count": 116,
   "id": "9b62b81d-779c-41c7-bb2f-0c5b48442a41",
   "metadata": {},
   "outputs": [
    {
     "name": "stdout",
     "output_type": "stream",
     "text": [
      "              precision    recall  f1-score   support\n",
      "\n",
      "           0       0.61      1.00      0.76        14\n",
      "           1       1.00      0.68      0.81        28\n",
      "\n",
      "    accuracy                           0.79        42\n",
      "   macro avg       0.80      0.84      0.78        42\n",
      "weighted avg       0.87      0.79      0.79        42\n",
      "\n"
     ]
    }
   ],
   "source": [
    "test_df['pred'] = test_df['confidence'].apply(lambda x: 1 if x>0.92 else 0)\n",
    "\n",
    "print(classification_report(test_df['разметка'], test_df['pred']))"
   ]
  },
  {
   "cell_type": "code",
   "execution_count": 117,
   "id": "03ad7381-db41-4a65-89e7-a5eec1374cb4",
   "metadata": {},
   "outputs": [
    {
     "data": {
      "text/html": [
       "<div>\n",
       "<style scoped>\n",
       "    .dataframe tbody tr th:only-of-type {\n",
       "        vertical-align: middle;\n",
       "    }\n",
       "\n",
       "    .dataframe tbody tr th {\n",
       "        vertical-align: top;\n",
       "    }\n",
       "\n",
       "    .dataframe thead th {\n",
       "        text-align: right;\n",
       "    }\n",
       "</style>\n",
       "<table border=\"1\" class=\"dataframe\">\n",
       "  <thead>\n",
       "    <tr style=\"text-align: right;\">\n",
       "      <th></th>\n",
       "      <th>отзывы</th>\n",
       "      <th>разметка</th>\n",
       "      <th>confidence</th>\n",
       "      <th>pred</th>\n",
       "    </tr>\n",
       "  </thead>\n",
       "  <tbody>\n",
       "    <tr>\n",
       "      <th>30</th>\n",
       "      <td>Позор какой-то честно говоря. Придется продавать.</td>\n",
       "      <td>0</td>\n",
       "      <td>0.836203</td>\n",
       "      <td>0</td>\n",
       "    </tr>\n",
       "    <tr>\n",
       "      <th>172</th>\n",
       "      <td>Ну это Rapid Quantum Calculations, он мощный, ...</td>\n",
       "      <td>1</td>\n",
       "      <td>0.939871</td>\n",
       "      <td>1</td>\n",
       "    </tr>\n",
       "    <tr>\n",
       "      <th>84</th>\n",
       "      <td>Лёгкий корпус, красивый пастельный цвет, внешн...</td>\n",
       "      <td>1</td>\n",
       "      <td>0.989457</td>\n",
       "      <td>1</td>\n",
       "    </tr>\n",
       "    <tr>\n",
       "      <th>199</th>\n",
       "      <td>я очень довольна, функциональный, быстрый</td>\n",
       "      <td>1</td>\n",
       "      <td>0.993450</td>\n",
       "      <td>1</td>\n",
       "    </tr>\n",
       "    <tr>\n",
       "      <th>60</th>\n",
       "      <td>Слабо ловит сигнал вай-вай, буквально на 8-10 ...</td>\n",
       "      <td>0</td>\n",
       "      <td>0.565634</td>\n",
       "      <td>0</td>\n",
       "    </tr>\n",
       "    <tr>\n",
       "      <th>155</th>\n",
       "      <td>Пользуюсь примерно полгода, за это время не на...</td>\n",
       "      <td>1</td>\n",
       "      <td>0.579691</td>\n",
       "      <td>0</td>\n",
       "    </tr>\n",
       "    <tr>\n",
       "      <th>45</th>\n",
       "      <td>нет быстрой зарядки. лагает даже на рабочем ст...</td>\n",
       "      <td>0</td>\n",
       "      <td>0.896914</td>\n",
       "      <td>0</td>\n",
       "    </tr>\n",
       "    <tr>\n",
       "      <th>182</th>\n",
       "      <td>квантовый смартфон даже звучит круто</td>\n",
       "      <td>1</td>\n",
       "      <td>0.999746</td>\n",
       "      <td>1</td>\n",
       "    </tr>\n",
       "    <tr>\n",
       "      <th>9</th>\n",
       "      <td>После QPhone Pro MAX отлично лежит в руке, бра...</td>\n",
       "      <td>1</td>\n",
       "      <td>0.999567</td>\n",
       "      <td>1</td>\n",
       "    </tr>\n",
       "    <tr>\n",
       "      <th>196</th>\n",
       "      <td>Для бюджетного телефона ничего более и не ожид...</td>\n",
       "      <td>1</td>\n",
       "      <td>0.949094</td>\n",
       "      <td>1</td>\n",
       "    </tr>\n",
       "    <tr>\n",
       "      <th>136</th>\n",
       "      <td>Попался брак, продавец не производит замену ил...</td>\n",
       "      <td>0</td>\n",
       "      <td>0.134366</td>\n",
       "      <td>0</td>\n",
       "    </tr>\n",
       "    <tr>\n",
       "      <th>187</th>\n",
       "      <td>Интересуюсь стартапами и их технологиями, поэт...</td>\n",
       "      <td>1</td>\n",
       "      <td>0.962500</td>\n",
       "      <td>1</td>\n",
       "    </tr>\n",
       "    <tr>\n",
       "      <th>207</th>\n",
       "      <td>Звук ужасный, собеседника очень плохо слышно, ...</td>\n",
       "      <td>0</td>\n",
       "      <td>0.872796</td>\n",
       "      <td>0</td>\n",
       "    </tr>\n",
       "    <tr>\n",
       "      <th>126</th>\n",
       "      <td>при транспортировке не пострадал не разу и кор...</td>\n",
       "      <td>1</td>\n",
       "      <td>0.522389</td>\n",
       "      <td>0</td>\n",
       "    </tr>\n",
       "    <tr>\n",
       "      <th>15</th>\n",
       "      <td>Пользуюсь телефонами Rapid Quantum Calculation...</td>\n",
       "      <td>1</td>\n",
       "      <td>0.981835</td>\n",
       "      <td>1</td>\n",
       "    </tr>\n",
       "    <tr>\n",
       "      <th>73</th>\n",
       "      <td>звучит как очередной обман, брать не буду</td>\n",
       "      <td>0</td>\n",
       "      <td>0.795377</td>\n",
       "      <td>0</td>\n",
       "    </tr>\n",
       "    <tr>\n",
       "      <th>165</th>\n",
       "      <td>перегревается при просмотре видео и приложений...</td>\n",
       "      <td>0</td>\n",
       "      <td>0.470363</td>\n",
       "      <td>0</td>\n",
       "    </tr>\n",
       "    <tr>\n",
       "      <th>18</th>\n",
       "      <td>тормозит как моя пробабушка</td>\n",
       "      <td>0</td>\n",
       "      <td>0.770924</td>\n",
       "      <td>0</td>\n",
       "    </tr>\n",
       "    <tr>\n",
       "      <th>168</th>\n",
       "      <td>Все прекрасно работает, я в восторге!</td>\n",
       "      <td>1</td>\n",
       "      <td>0.976933</td>\n",
       "      <td>1</td>\n",
       "    </tr>\n",
       "    <tr>\n",
       "      <th>93</th>\n",
       "      <td>Работает на 100 процентов</td>\n",
       "      <td>1</td>\n",
       "      <td>0.993324</td>\n",
       "      <td>1</td>\n",
       "    </tr>\n",
       "    <tr>\n",
       "      <th>75</th>\n",
       "      <td>неудобно держать в руке</td>\n",
       "      <td>0</td>\n",
       "      <td>0.808680</td>\n",
       "      <td>0</td>\n",
       "    </tr>\n",
       "    <tr>\n",
       "      <th>55</th>\n",
       "      <td>громкость отличная, фото получаются тоже хорошие</td>\n",
       "      <td>1</td>\n",
       "      <td>0.647393</td>\n",
       "      <td>0</td>\n",
       "    </tr>\n",
       "    <tr>\n",
       "      <th>147</th>\n",
       "      <td>а мне понравился</td>\n",
       "      <td>1</td>\n",
       "      <td>0.980866</td>\n",
       "      <td>1</td>\n",
       "    </tr>\n",
       "    <tr>\n",
       "      <th>109</th>\n",
       "      <td>Блин, батарея слабоватая, разряжается быстрее,...</td>\n",
       "      <td>0</td>\n",
       "      <td>0.705005</td>\n",
       "      <td>0</td>\n",
       "    </tr>\n",
       "    <tr>\n",
       "      <th>108</th>\n",
       "      <td>Смартфон только купла, но очень рада приобрете...</td>\n",
       "      <td>1</td>\n",
       "      <td>0.964536</td>\n",
       "      <td>1</td>\n",
       "    </tr>\n",
       "    <tr>\n",
       "      <th>142</th>\n",
       "      <td>одно сплошное достоинство</td>\n",
       "      <td>1</td>\n",
       "      <td>0.355004</td>\n",
       "      <td>0</td>\n",
       "    </tr>\n",
       "    <tr>\n",
       "      <th>25</th>\n",
       "      <td>Не переходите с Rapid Quantum Calculations на ...</td>\n",
       "      <td>0</td>\n",
       "      <td>0.880166</td>\n",
       "      <td>0</td>\n",
       "    </tr>\n",
       "    <tr>\n",
       "      <th>125</th>\n",
       "      <td>Пользуюсь данным девайсом уже более 3-х месяце...</td>\n",
       "      <td>1</td>\n",
       "      <td>0.909360</td>\n",
       "      <td>0</td>\n",
       "    </tr>\n",
       "    <tr>\n",
       "      <th>16</th>\n",
       "      <td>При звонках часто пропадает связь, сегодня воо...</td>\n",
       "      <td>0</td>\n",
       "      <td>0.524944</td>\n",
       "      <td>0</td>\n",
       "    </tr>\n",
       "    <tr>\n",
       "      <th>173</th>\n",
       "      <td>За свои деньги отличный. Пользуюсь больше полу...</td>\n",
       "      <td>1</td>\n",
       "      <td>0.899806</td>\n",
       "      <td>0</td>\n",
       "    </tr>\n",
       "    <tr>\n",
       "      <th>192</th>\n",
       "      <td>Шустрый аппарат</td>\n",
       "      <td>1</td>\n",
       "      <td>0.893036</td>\n",
       "      <td>0</td>\n",
       "    </tr>\n",
       "    <tr>\n",
       "      <th>69</th>\n",
       "      <td>неделю поработал нормально и стал глючить</td>\n",
       "      <td>0</td>\n",
       "      <td>0.389307</td>\n",
       "      <td>0</td>\n",
       "    </tr>\n",
       "    <tr>\n",
       "      <th>101</th>\n",
       "      <td>Отличный смартфон. Быстродействие выше всяких ...</td>\n",
       "      <td>1</td>\n",
       "      <td>0.999473</td>\n",
       "      <td>1</td>\n",
       "    </tr>\n",
       "    <tr>\n",
       "      <th>67</th>\n",
       "      <td>хорошая и быстрая зарядка, классная камера</td>\n",
       "      <td>1</td>\n",
       "      <td>0.993586</td>\n",
       "      <td>1</td>\n",
       "    </tr>\n",
       "    <tr>\n",
       "      <th>104</th>\n",
       "      <td>очень мощный, не греется — в игры комфортно иг...</td>\n",
       "      <td>1</td>\n",
       "      <td>0.994588</td>\n",
       "      <td>1</td>\n",
       "    </tr>\n",
       "    <tr>\n",
       "      <th>132</th>\n",
       "      <td>Классный смартфон, очень помогает при работе</td>\n",
       "      <td>1</td>\n",
       "      <td>0.998445</td>\n",
       "      <td>1</td>\n",
       "    </tr>\n",
       "    <tr>\n",
       "      <th>180</th>\n",
       "      <td>Недавно купила такой телефон, при выборе обращ...</td>\n",
       "      <td>1</td>\n",
       "      <td>0.998168</td>\n",
       "      <td>1</td>\n",
       "    </tr>\n",
       "    <tr>\n",
       "      <th>95</th>\n",
       "      <td>Купил матери на новый год. Ее вроде все устраи...</td>\n",
       "      <td>1</td>\n",
       "      <td>0.879512</td>\n",
       "      <td>0</td>\n",
       "    </tr>\n",
       "    <tr>\n",
       "      <th>82</th>\n",
       "      <td>рекомендую, классный</td>\n",
       "      <td>1</td>\n",
       "      <td>0.705014</td>\n",
       "      <td>0</td>\n",
       "    </tr>\n",
       "    <tr>\n",
       "      <th>159</th>\n",
       "      <td>Нравится, что это не просто очередной смартфон...</td>\n",
       "      <td>1</td>\n",
       "      <td>0.977110</td>\n",
       "      <td>1</td>\n",
       "    </tr>\n",
       "    <tr>\n",
       "      <th>197</th>\n",
       "      <td>Отличный шустрый смартфон, яркий дисплей, сочн...</td>\n",
       "      <td>1</td>\n",
       "      <td>1.000000</td>\n",
       "      <td>1</td>\n",
       "    </tr>\n",
       "    <tr>\n",
       "      <th>162</th>\n",
       "      <td>телефон постоянно тормозит и глючит, часто при...</td>\n",
       "      <td>0</td>\n",
       "      <td>0.000000</td>\n",
       "      <td>0</td>\n",
       "    </tr>\n",
       "  </tbody>\n",
       "</table>\n",
       "</div>"
      ],
      "text/plain": [
       "                                                отзывы  разметка  confidence  \\\n",
       "30   Позор какой-то честно говоря. Придется продавать.         0    0.836203   \n",
       "172  Ну это Rapid Quantum Calculations, он мощный, ...         1    0.939871   \n",
       "84   Лёгкий корпус, красивый пастельный цвет, внешн...         1    0.989457   \n",
       "199          я очень довольна, функциональный, быстрый         1    0.993450   \n",
       "60   Слабо ловит сигнал вай-вай, буквально на 8-10 ...         0    0.565634   \n",
       "155  Пользуюсь примерно полгода, за это время не на...         1    0.579691   \n",
       "45   нет быстрой зарядки. лагает даже на рабочем ст...         0    0.896914   \n",
       "182               квантовый смартфон даже звучит круто         1    0.999746   \n",
       "9    После QPhone Pro MAX отлично лежит в руке, бра...         1    0.999567   \n",
       "196  Для бюджетного телефона ничего более и не ожид...         1    0.949094   \n",
       "136  Попался брак, продавец не производит замену ил...         0    0.134366   \n",
       "187  Интересуюсь стартапами и их технологиями, поэт...         1    0.962500   \n",
       "207  Звук ужасный, собеседника очень плохо слышно, ...         0    0.872796   \n",
       "126  при транспортировке не пострадал не разу и кор...         1    0.522389   \n",
       "15   Пользуюсь телефонами Rapid Quantum Calculation...         1    0.981835   \n",
       "73           звучит как очередной обман, брать не буду         0    0.795377   \n",
       "165  перегревается при просмотре видео и приложений...         0    0.470363   \n",
       "18                         тормозит как моя пробабушка         0    0.770924   \n",
       "168              Все прекрасно работает, я в восторге!         1    0.976933   \n",
       "93                           Работает на 100 процентов         1    0.993324   \n",
       "75                             неудобно держать в руке         0    0.808680   \n",
       "55    громкость отличная, фото получаются тоже хорошие         1    0.647393   \n",
       "147                                   а мне понравился         1    0.980866   \n",
       "109  Блин, батарея слабоватая, разряжается быстрее,...         0    0.705005   \n",
       "108  Смартфон только купла, но очень рада приобрете...         1    0.964536   \n",
       "142                          одно сплошное достоинство         1    0.355004   \n",
       "25   Не переходите с Rapid Quantum Calculations на ...         0    0.880166   \n",
       "125  Пользуюсь данным девайсом уже более 3-х месяце...         1    0.909360   \n",
       "16   При звонках часто пропадает связь, сегодня воо...         0    0.524944   \n",
       "173  За свои деньги отличный. Пользуюсь больше полу...         1    0.899806   \n",
       "192                                    Шустрый аппарат         1    0.893036   \n",
       "69           неделю поработал нормально и стал глючить         0    0.389307   \n",
       "101  Отличный смартфон. Быстродействие выше всяких ...         1    0.999473   \n",
       "67          хорошая и быстрая зарядка, классная камера         1    0.993586   \n",
       "104  очень мощный, не греется — в игры комфортно иг...         1    0.994588   \n",
       "132       Классный смартфон, очень помогает при работе         1    0.998445   \n",
       "180  Недавно купила такой телефон, при выборе обращ...         1    0.998168   \n",
       "95   Купил матери на новый год. Ее вроде все устраи...         1    0.879512   \n",
       "82                                рекомендую, классный         1    0.705014   \n",
       "159  Нравится, что это не просто очередной смартфон...         1    0.977110   \n",
       "197  Отличный шустрый смартфон, яркий дисплей, сочн...         1    1.000000   \n",
       "162  телефон постоянно тормозит и глючит, часто при...         0    0.000000   \n",
       "\n",
       "     pred  \n",
       "30      0  \n",
       "172     1  \n",
       "84      1  \n",
       "199     1  \n",
       "60      0  \n",
       "155     0  \n",
       "45      0  \n",
       "182     1  \n",
       "9       1  \n",
       "196     1  \n",
       "136     0  \n",
       "187     1  \n",
       "207     0  \n",
       "126     0  \n",
       "15      1  \n",
       "73      0  \n",
       "165     0  \n",
       "18      0  \n",
       "168     1  \n",
       "93      1  \n",
       "75      0  \n",
       "55      0  \n",
       "147     1  \n",
       "109     0  \n",
       "108     1  \n",
       "142     0  \n",
       "25      0  \n",
       "125     0  \n",
       "16      0  \n",
       "173     0  \n",
       "192     0  \n",
       "69      0  \n",
       "101     1  \n",
       "67      1  \n",
       "104     1  \n",
       "132     1  \n",
       "180     1  \n",
       "95      0  \n",
       "82      0  \n",
       "159     1  \n",
       "197     1  \n",
       "162     0  "
      ]
     },
     "execution_count": 117,
     "metadata": {},
     "output_type": "execute_result"
    }
   ],
   "source": [
    "test_df"
   ]
  },
  {
   "cell_type": "code",
   "execution_count": null,
   "id": "78becbfe-5419-4936-86ac-91aaab8d2709",
   "metadata": {},
   "outputs": [],
   "source": []
  }
 ],
 "metadata": {
  "kernelspec": {
   "display_name": "Python 3 (ipykernel)",
   "language": "python",
   "name": "python3"
  },
  "language_info": {
   "codemirror_mode": {
    "name": "ipython",
    "version": 3
   },
   "file_extension": ".py",
   "mimetype": "text/x-python",
   "name": "python",
   "nbconvert_exporter": "python",
   "pygments_lexer": "ipython3",
   "version": "3.11.5"
  }
 },
 "nbformat": 4,
 "nbformat_minor": 5
}
