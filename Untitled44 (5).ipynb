{
  "nbformat": 4,
  "nbformat_minor": 0,
  "metadata": {
    "colab": {
      "provenance": []
    },
    "kernelspec": {
      "name": "python3",
      "display_name": "Python 3"
    },
    "language_info": {
      "name": "python"
    }
  },
  "cells": [
    {
      "cell_type": "code",
      "source": [
        "!pip install pennylane"
      ],
      "metadata": {
        "colab": {
          "base_uri": "https://localhost:8080/"
        },
        "id": "0_HCk8yTqFpS",
        "outputId": "ba1a8caf-854e-473e-969b-7d187de3c202"
      },
      "execution_count": 1,
      "outputs": [
        {
          "output_type": "stream",
          "name": "stdout",
          "text": [
            "Collecting pennylane\n",
            "  Downloading PennyLane-0.39.0-py3-none-any.whl.metadata (9.2 kB)\n",
            "Requirement already satisfied: numpy<2.1 in /usr/local/lib/python3.10/dist-packages (from pennylane) (1.26.4)\n",
            "Requirement already satisfied: scipy in /usr/local/lib/python3.10/dist-packages (from pennylane) (1.13.1)\n",
            "Requirement already satisfied: networkx in /usr/local/lib/python3.10/dist-packages (from pennylane) (3.4.2)\n",
            "Collecting rustworkx>=0.14.0 (from pennylane)\n",
            "  Downloading rustworkx-0.15.1-cp38-abi3-manylinux_2_17_x86_64.manylinux2014_x86_64.whl.metadata (9.9 kB)\n",
            "Requirement already satisfied: autograd in /usr/local/lib/python3.10/dist-packages (from pennylane) (1.7.0)\n",
            "Requirement already satisfied: toml in /usr/local/lib/python3.10/dist-packages (from pennylane) (0.10.2)\n",
            "Collecting appdirs (from pennylane)\n",
            "  Downloading appdirs-1.4.4-py2.py3-none-any.whl.metadata (9.0 kB)\n",
            "Collecting autoray>=0.6.11 (from pennylane)\n",
            "  Downloading autoray-0.7.0-py3-none-any.whl.metadata (5.8 kB)\n",
            "Requirement already satisfied: cachetools in /usr/local/lib/python3.10/dist-packages (from pennylane) (5.5.0)\n",
            "Collecting pennylane-lightning>=0.39 (from pennylane)\n",
            "  Downloading PennyLane_Lightning-0.39.0-cp310-cp310-manylinux_2_28_x86_64.whl.metadata (26 kB)\n",
            "Requirement already satisfied: requests in /usr/local/lib/python3.10/dist-packages (from pennylane) (2.32.3)\n",
            "Requirement already satisfied: typing-extensions in /usr/local/lib/python3.10/dist-packages (from pennylane) (4.12.2)\n",
            "Requirement already satisfied: packaging in /usr/local/lib/python3.10/dist-packages (from pennylane) (24.2)\n",
            "Requirement already satisfied: charset-normalizer<4,>=2 in /usr/local/lib/python3.10/dist-packages (from requests->pennylane) (3.4.0)\n",
            "Requirement already satisfied: idna<4,>=2.5 in /usr/local/lib/python3.10/dist-packages (from requests->pennylane) (3.10)\n",
            "Requirement already satisfied: urllib3<3,>=1.21.1 in /usr/local/lib/python3.10/dist-packages (from requests->pennylane) (2.2.3)\n",
            "Requirement already satisfied: certifi>=2017.4.17 in /usr/local/lib/python3.10/dist-packages (from requests->pennylane) (2024.8.30)\n",
            "Downloading PennyLane-0.39.0-py3-none-any.whl (1.9 MB)\n",
            "\u001b[2K   \u001b[90m━━━━━━━━━━━━━━━━━━━━━━━━━━━━━━━━━━━━━━━━\u001b[0m \u001b[32m1.9/1.9 MB\u001b[0m \u001b[31m19.5 MB/s\u001b[0m eta \u001b[36m0:00:00\u001b[0m\n",
            "\u001b[?25hDownloading autoray-0.7.0-py3-none-any.whl (930 kB)\n",
            "\u001b[2K   \u001b[90m━━━━━━━━━━━━━━━━━━━━━━━━━━━━━━━━━━━━━━━━\u001b[0m \u001b[32m930.0/930.0 kB\u001b[0m \u001b[31m50.6 MB/s\u001b[0m eta \u001b[36m0:00:00\u001b[0m\n",
            "\u001b[?25hDownloading PennyLane_Lightning-0.39.0-cp310-cp310-manylinux_2_28_x86_64.whl (1.7 MB)\n",
            "\u001b[2K   \u001b[90m━━━━━━━━━━━━━━━━━━━━━━━━━━━━━━━━━━━━━━━━\u001b[0m \u001b[32m1.7/1.7 MB\u001b[0m \u001b[31m66.5 MB/s\u001b[0m eta \u001b[36m0:00:00\u001b[0m\n",
            "\u001b[?25hDownloading rustworkx-0.15.1-cp38-abi3-manylinux_2_17_x86_64.manylinux2014_x86_64.whl (2.0 MB)\n",
            "\u001b[2K   \u001b[90m━━━━━━━━━━━━━━━━━━━━━━━━━━━━━━━━━━━━━━━━\u001b[0m \u001b[32m2.0/2.0 MB\u001b[0m \u001b[31m71.2 MB/s\u001b[0m eta \u001b[36m0:00:00\u001b[0m\n",
            "\u001b[?25hDownloading appdirs-1.4.4-py2.py3-none-any.whl (9.6 kB)\n",
            "Installing collected packages: appdirs, rustworkx, autoray, pennylane-lightning, pennylane\n",
            "Successfully installed appdirs-1.4.4 autoray-0.7.0 pennylane-0.39.0 pennylane-lightning-0.39.0 rustworkx-0.15.1\n"
          ]
        }
      ]
    },
    {
      "cell_type": "code",
      "source": [
        "import torch\n",
        "import torch.nn as nn\n",
        "import torch.optim as optim\n",
        "import pennylane as qml\n",
        "import pandas as pd\n",
        "from sklearn.feature_extraction.text import TfidfVectorizer\n",
        "from sklearn.model_selection import train_test_split\n",
        "from sklearn.metrics import accuracy_score\n",
        "from torch.utils.data import DataLoader, TensorDataset\n",
        "from sklearn.metrics import accuracy_score, precision_score, recall_score, f1_score, confusion_matrix\n",
        "import seaborn as sns\n",
        "import numpy as np\n",
        "import matplotlib.pyplot as plt"
      ],
      "metadata": {
        "id": "veCTG3IQpv4u"
      },
      "execution_count": 2,
      "outputs": []
    },
    {
      "cell_type": "code",
      "source": [
        "df = pd.read_csv('task-3-dataset.csv')\n",
        "df.replace({'+': 1, '-': 0}, inplace=True)\n",
        "train_df = df\n",
        "train_text = train_df['отзывы'].astype('str')\n",
        "train_labels = train_df['разметка']\n",
        "df2 = pd.read_csv('test50.csv')\n",
        "df2.replace({'+': 1, '-': 0}, inplace=True)\n",
        "test_df = df2\n",
        "test_text = test_df['Отзывы'].astype('str')\n",
        "test_labels = test_df['разметка']"
      ],
      "metadata": {
        "colab": {
          "base_uri": "https://localhost:8080/"
        },
        "id": "JgdsvpOlqUvY",
        "outputId": "0236c86b-4c59-487a-e0a9-48e1ff4f68f6"
      },
      "execution_count": 8,
      "outputs": [
        {
          "output_type": "stream",
          "name": "stderr",
          "text": [
            "<ipython-input-8-ad264de50c0b>:2: FutureWarning: Downcasting behavior in `replace` is deprecated and will be removed in a future version. To retain the old behavior, explicitly call `result.infer_objects(copy=False)`. To opt-in to the future behavior, set `pd.set_option('future.no_silent_downcasting', True)`\n",
            "  df.replace({'+': 1, '-': 0}, inplace=True)\n",
            "<ipython-input-8-ad264de50c0b>:7: FutureWarning: Downcasting behavior in `replace` is deprecated and will be removed in a future version. To retain the old behavior, explicitly call `result.infer_objects(copy=False)`. To opt-in to the future behavior, set `pd.set_option('future.no_silent_downcasting', True)`\n",
            "  df2.replace({'+': 1, '-': 0}, inplace=True)\n"
          ]
        }
      ]
    },
    {
      "cell_type": "code",
      "execution_count": 34,
      "metadata": {
        "id": "JSrXz_4ZpnbG",
        "colab": {
          "base_uri": "https://localhost:8080/",
          "height": 829
        },
        "outputId": "5f17bee5-3b3b-4a51-ce3f-2889dd31c90c"
      },
      "outputs": [
        {
          "output_type": "stream",
          "name": "stdout",
          "text": [
            "Epoch [1/20], Loss: 0.6810, Accuracy: 0.5762\n",
            "Epoch [2/20], Loss: 0.6683, Accuracy: 0.5762\n",
            "Epoch [3/20], Loss: 0.6252, Accuracy: 0.7476\n",
            "Epoch [4/20], Loss: 0.5678, Accuracy: 0.9571\n",
            "Epoch [5/20], Loss: 0.5176, Accuracy: 0.9571\n",
            "Epoch [6/20], Loss: 0.4800, Accuracy: 0.9714\n",
            "Epoch [7/20], Loss: 0.4503, Accuracy: 0.9810\n",
            "Epoch [8/20], Loss: 0.4262, Accuracy: 0.9857\n",
            "Epoch [9/20], Loss: 0.4064, Accuracy: 0.9905\n",
            "Epoch [10/20], Loss: 0.3905, Accuracy: 1.0000\n",
            "Epoch [11/20], Loss: 0.3779, Accuracy: 1.0000\n",
            "Epoch [12/20], Loss: 0.3677, Accuracy: 1.0000\n",
            "Epoch [13/20], Loss: 0.3594, Accuracy: 1.0000\n",
            "Epoch [14/20], Loss: 0.3527, Accuracy: 1.0000\n",
            "Epoch [15/20], Loss: 0.3470, Accuracy: 1.0000\n",
            "Epoch [16/20], Loss: 0.3424, Accuracy: 1.0000\n",
            "Epoch [17/20], Loss: 0.3385, Accuracy: 1.0000\n",
            "Epoch [18/20], Loss: 0.3352, Accuracy: 1.0000\n",
            "Epoch [19/20], Loss: 0.3324, Accuracy: 1.0000\n",
            "Epoch [20/20], Loss: 0.3300, Accuracy: 1.0000\n",
            "Precision on test set: 0.6667\n",
            "Recall on test set: 0.6957\n",
            "F1 Score on test set: 0.6809\n"
          ]
        },
        {
          "output_type": "display_data",
          "data": {
            "text/plain": [
              "<Figure size 640x480 with 2 Axes>"
            ],
            "image/png": "[encoded data removed]"
          },
          "metadata": {}
        }
      ],
      "source": [
        "\n",
        "vectorizer = TfidfVectorizer(max_features=500)\n",
        "X_train_tfidf = vectorizer.fit_transform(train_text).toarray()\n",
        "X_test_tfidf = vectorizer.transform(test_text).toarray()\n",
        "\n",
        "X_train_tensor = torch.tensor(X_train_tfidf, dtype=torch.float32)\n",
        "X_test_tensor = torch.tensor(X_test_tfidf, dtype=torch.float32)\n",
        "y_train_tensor = torch.tensor(train_labels.values)\n",
        "y_test_tensor = torch.tensor(test_labels.values)\n",
        "\n",
        "train_data = TensorDataset(X_train_tensor, y_train_tensor)\n",
        "train_loader = DataLoader(train_data, batch_size=1, shuffle=True)\n",
        "\n",
        "dev = qml.device(\"default.qubit\", wires=4)  # Создаем квантовое устройство\n",
        "@qml.qnode(dev)\n",
        "def quantum_layer(x):\n",
        "    x = torch.flatten(x)\n",
        "    for e in x:\n",
        "      if(e > 1.5):\n",
        "        e = 1.0\n",
        "    x = x.round().int().tolist()\n",
        "    qml.BasisState(x, wires=[0, 1, 2, 3])\n",
        "    for i in range(4):\n",
        "      qml.Hadamard(wires=i)\n",
        "    qml.CNOT(wires=[0, 1])\n",
        "    qml.CNOT(wires=[1, 2])\n",
        "    qml.CNOT(wires=[2, 3])\n",
        "    qml.CNOT(wires=[0, 3])\n",
        "\n",
        "\n",
        "    return qml.expval(qml.PauliZ(0))\n",
        "\n",
        "class ReviewClassifier(nn.Module):\n",
        "    def __init__(self, input_dim, hidden_dim, output_dim):\n",
        "        super(ReviewClassifier, self).__init__()\n",
        "        self.fc1 = nn.Linear(input_dim, hidden_dim)\n",
        "        self.fc2 = nn.Linear(hidden_dim, output_dim)\n",
        "        self.relu = nn.ReLU()\n",
        "        self.softmax = nn.Softmax(dim=1)\n",
        "        self.quantum = quantum_layer  # Квантовый слой\n",
        "\n",
        "    def forward(self, x):\n",
        "        x = self.fc1(x)\n",
        "        x = self.relu(x)\n",
        "\n",
        "        x_quantum = torch.tensor([self.quantum(xi) for xi in x])\n",
        "\n",
        "        x = self.fc2(x)\n",
        "        return self.softmax(x)\n",
        "\n",
        "input_dim = X_train_tfidf.shape[1]  # Количество признаков\n",
        "hidden_dim = 4  # Скрытый слой\n",
        "output_dim = 2\n",
        "\n",
        "model = ReviewClassifier(input_dim, hidden_dim, output_dim)\n",
        "\n",
        "# Функция потерь и оптимизатор\n",
        "criterion = nn.CrossEntropyLoss()\n",
        "optimizer = optim.Adam(model.parameters(), lr=0.0015)\n",
        "\n",
        "# Обучение модели\n",
        "epochs = 20\n",
        "t_losses = []\n",
        "for epoch in range(epochs):\n",
        "    model.train()\n",
        "    running_loss = 0.0\n",
        "    correct = 0\n",
        "    total = 0\n",
        "    for inputs, labels in train_loader:\n",
        "        optimizer.zero_grad()\n",
        "        outputs = model(inputs)\n",
        "        loss = criterion(outputs, labels)\n",
        "        loss.backward()\n",
        "        optimizer.step()\n",
        "\n",
        "        running_loss += loss.item()\n",
        "        _, predicted = torch.max(outputs, 1)\n",
        "        total += labels.size(0)\n",
        "        correct += (predicted == labels).sum().item()\n",
        "    t_losses.append(running_loss/len(train_loader))\n",
        "    print(f\"Epoch [{epoch+1}/{epochs}], Loss: {running_loss/len(train_loader):.4f}, Accuracy: {correct/total:.4f}\")\n",
        "\n",
        "with torch.no_grad():\n",
        "    outputs = model(X_test_tensor)\n",
        "    outputs = torch.sigmoid(outputs)\n",
        "    _, predicted = torch.max(outputs, 1)\n",
        "\n",
        "    accuracy = accuracy_score(y_test_tensor, predicted)\n",
        "    precision = precision_score(y_test_tensor, predicted)\n",
        "    recall = recall_score(y_test_tensor, predicted)\n",
        "    f1 = f1_score(y_test_tensor, predicted)\n",
        "    cm = confusion_matrix(y_test_tensor, predicted)\n",
        "\n",
        "    print(f\"Precision on test set: {precision:.4f}\")\n",
        "    print(f\"Recall on test set: {recall:.4f}\")\n",
        "    print(f\"F1 Score on test set: {f1:.4f}\")\n",
        "    sns.heatmap(cm, annot=True)\n"
      ]
    },
    {
      "cell_type": "code",
      "source": [
        "\n",
        "test_df['predictions'] = predicted.numpy()\n",
        "print(test_df)"
      ],
      "metadata": {
        "colab": {
          "base_uri": "https://localhost:8080/"
        },
        "id": "3NwWTFOq0nf6",
        "outputId": "da26dda4-3218-4d4e-a7c3-e7cc205f5253"
      },
      "execution_count": 18,
      "outputs": [
        {
          "output_type": "stream",
          "name": "stdout",
          "text": [
            "                                               Отзывы  разметка  predictions\n",
            "0   Очень разочарован QPhone. Ожидал, что квантовы...         0            0\n",
            "1   Очень быстро разряжается. Просто полное разоча...         0            0\n",
            "2   Ну что тут сказать, телефон хороший, флагман т...         1            1\n",
            "3   QPhone Pro MAX просто бомба! Быстрее любого см...         1            1\n",
            "4   Слишком дорого для массового рынка – не каждый...         0            0\n",
            "5   Многие приложения несовместимы с квантовой арх...         0            0\n",
            "6                 Точно буду советовать своим друзьям         1            1\n",
            "7   За три месяца так и не смог привыкнуть к интер...         0            0\n",
            "8   С каждым обновлением кажется, что работает всё...         0            0\n",
            "9   Не берите Qphone pro Max. Только деньги потратите         0            0\n",
            "10  Скорость – просто огонь, но если сравнивать с ...         1            1\n",
            "11  Телефон кипит нагревается когда работает на ру...         0            1\n",
            "12  После QPhone Pro MAX обычные смартфоны кажутся...         1            0\n",
            "13  Наверное для фотографирования котиков он не оч...         1            1\n",
            "14  На вид очень стильный, но отпечатки на экране ...         0            0\n",
            "15  Для меня Rapid Quantum Calculations – это уже ...         1            1\n",
            "16  QPhone Pro MAX не поддерживает мои старые науш...         0            1\n",
            "17  Rapid Quantum подняли планку на новый уровень....         1            1\n",
            "18  QPhone Pro MAX работает быстрее, чем я успеваю...         1            1\n",
            "19  Я бы не сказал, что на данном этапе это обязат...         0            0\n",
            "20  Взял QPhone просто из любопытства, работает не...         0            1\n",
            "21  Интерфейс иногда сбоит. Похоже, квантовая техн...         0            0\n",
            "22  Для первого поколения вполне ок, но видно, что...         1            1\n",
            "23  Очень радует быстрая зарядка: до 100% за полча...         1            1\n",
            "24  Квантовая многозадачность – это то, чего мне н...         1            0\n",
            "25  Реально впечатляет, насколько всё быстро грузи...         1            1\n",
            "26  Часто сбоит камера: фокусировка занимает много...         0            1\n",
            "27                                        Бесполезный         0            0\n",
            "28  Люблю Rapid Quantum Calculations! QPhone оказа...         1            1\n",
            "29  переплата за бренд! тормозит! также как и все ...         0            0\n",
            "30  Привлёк мощный маркетинг, но пока не нашёл сер...         1            0\n",
            "31  Честно? Не чувствую разницы в повседневном исп...         0            0\n",
            "32  Это отличный телефон за свои деньги. Отличный ...         1            1\n",
            "33  Обслуживание QPhone Pro MAX – это квест, Rapid...         0            1\n",
            "34  Через три месяца заметил, что экран стал мерца...         0            1\n",
            "35  Пользуюсь уже пару месяцев, и знаете, пока ни ...         1            0\n",
            "36  Динамики не самые хорошие. Круто, что телефон ...         0            1\n",
            "37               Не стоит своих денег от слова совсем         0            0\n",
            "38  ПО немного сырое, есть мелкие неприятные пробл...         0            0\n",
            "39  Уже подумываю, чтобы сменить на что-то другое....         0            1\n",
            "40  Отличное устройство, которое выделяется среди ...         1            1\n",
            "41          Классная задумка, но реализация подкачала         0            1\n",
            "42  Фанатею от Rapid Quantum Calculations! Каждый ...         1            1\n",
            "43  Неплохой телефон, но явно требует доработки. Ж...         0            0\n",
            "44  QPhone Pro MAX просто шик! Никаких лагов, толь...         1            1\n",
            "45  Не тормозит, компактный, легкий, удобно держат...         1            1\n",
            "46  Телефон только для увлечённых наукой. Обычному...         1            0\n",
            "47  QPhone от Rapid Quantum Calculations – настоящ...         1            1\n",
            "48  Слишком дорогой для простых смертных. Не кажды...         0            1\n",
            "49  Заплатил кучу денег, а толку ноль. Телефон не ...         0            1\n"
          ]
        }
      ]
    },
    {
      "cell_type": "code",
      "source": [
        "a = [i for i in range (20)]\n",
        "plt.plot(a, t_losses)"
      ],
      "metadata": {
        "colab": {
          "base_uri": "https://localhost:8080/",
          "height": 451
        },
        "id": "N-mllTQZD__y",
        "outputId": "c86ef233-a5d8-47cc-8582-b473fa270409"
      },
      "execution_count": 15,
      "outputs": [
        {
          "output_type": "execute_result",
          "data": {
            "text/plain": [
              "[<matplotlib.lines.Line2D at 0x7dedc8403880>]"
            ]
          },
          "metadata": {},
          "execution_count": 15
        },
        {
          "output_type": "display_data",
          "data": {
            "text/plain": [
              "<Figure size 640x480 with 1 Axes>"
            ],
            "image/png": "[encoded data removed]"
          },
          "metadata": {}
        }
      ]
    }
  ]
}